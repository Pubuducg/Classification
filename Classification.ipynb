{
 "cells": [
  {
   "metadata": {},
   "cell_type": "markdown",
   "source": "https://dilithjay.com/blog/custom-image-classifier-with-pytorch",
   "id": "a263b5965933a453"
  },
  {
   "metadata": {
    "ExecuteTime": {
     "end_time": "2024-10-17T05:02:06.940335Z",
     "start_time": "2024-10-17T05:02:06.927711Z"
    }
   },
   "cell_type": "code",
   "source": [
    "import torchvision\n",
    "from torchvision.datasets import ImageFolder\n",
    "import torch\n",
    "from torch import optim\n",
    "import torchvision.transforms as transforms\n",
    "from torch.utils.data import Dataset,DataLoader\n",
    "from torchvision.io import read_image, ImageReadMode\n",
    "\n",
    "EPOCHS = 10\n",
    "SIZE = 224\n",
    "CLASSES = 3\n"
   ],
   "id": "41c7c5b148be28b2",
   "outputs": [],
   "execution_count": 54
  },
  {
   "metadata": {
    "ExecuteTime": {
     "end_time": "2024-10-17T05:02:06.956364Z",
     "start_time": "2024-10-17T05:02:06.943340Z"
    }
   },
   "cell_type": "code",
   "source": [
    "\n",
    "#train_dataset = torchvision.datasets.ImageFolder(root='./images/train', transform=transform)\n",
    "transform = transforms.Compose([\n",
    "    transforms.Resize((SIZE, SIZE)),\n",
    "    transforms.RandomHorizontalFlip(p=0.5),\n",
    "    transforms.RandomVerticalFlip(p=0.5),\n",
    "    #transforms.ColorJitter(brightness=0.1, contrast=0.1, saturation=0.1, hue=0.1),   \n",
    "    transforms.Normalize([0.485, 0.456, 0.406], [0.229, 0.224, 0.225])\n",
    "])\n"
   ],
   "id": "de4b07a3074a2c7b",
   "outputs": [],
   "execution_count": 55
  },
  {
   "metadata": {
    "ExecuteTime": {
     "end_time": "2024-10-17T05:02:06.986887Z",
     "start_time": "2024-10-17T05:02:06.972222Z"
    }
   },
   "cell_type": "code",
   "source": [
    "import glob\n",
    "import os\n",
    "\n",
    "class CustomDataset(Dataset):\n",
    "    def __init__(self, root_dir, transform):\n",
    "        self.transform = transform\n",
    "        self.image_paths = []\n",
    "        for ext in ['jpg']:\n",
    "        #for ext in ['png', 'jpg']:\n",
    "            self.image_paths += glob.glob(os.path.join(root_dir, '*', f'*.{ext}'))\n",
    "        class_set = set()\n",
    "        for path in self.image_paths:\n",
    "            #class_set.add(os.path.dirname(path))\n",
    "            class_set.add(os.path.basename(os.path.dirname(path)))\n",
    "        self.class_lbl = { cls: i for i, cls in enumerate(sorted(list(class_set)))}\n",
    "\n",
    "    def __len__(self):\n",
    "        return len(self.image_paths)\n",
    "\n",
    "    def __getitem__(self, idx):\n",
    "        img = read_image(self.image_paths[idx], ImageReadMode.RGB).float()\n",
    "        cls = os.path.basename(os.path.dirname(self.image_paths[idx]))\n",
    "        label = self.class_lbl[cls]\n",
    "        \n",
    "        return self.transform(img), torch.tensor(label)\n",
    "    "
   ],
   "id": "854d14a8c651c269",
   "outputs": [],
   "execution_count": 56
  },
  {
   "metadata": {
    "ExecuteTime": {
     "end_time": "2024-10-17T05:02:07.018455Z",
     "start_time": "2024-10-17T05:02:07.003899Z"
    }
   },
   "cell_type": "code",
   "source": [
    "dataset = CustomDataset('.\\\\images\\\\train', transform)\n",
    "splits = [0.8, 0.1, 0.1]\n",
    "split_sizes = []\n",
    "for sp in splits[:-1]:\n",
    "    split_sizes.append(int(sp * len(dataset)))\n",
    "split_sizes.append(len(dataset) - sum(split_sizes))\n",
    "\n",
    "train_set, test_set, val_set = torch.utils.data.random_split(dataset, split_sizes)\n",
    "\n",
    "val_set.transform = test_set.transform = transforms.Compose([\n",
    "    transforms.Resize((SIZE, SIZE))\n",
    "])\n"
   ],
   "id": "74761b1954304715",
   "outputs": [],
   "execution_count": 57
  },
  {
   "metadata": {
    "ExecuteTime": {
     "end_time": "2024-10-17T05:02:07.049401Z",
     "start_time": "2024-10-17T05:02:07.034399Z"
    }
   },
   "cell_type": "code",
   "source": [
    "from torch.utils.data import Dataset\n",
    "dataloaders = {\n",
    "    \"train\": DataLoader(train_set, batch_size=16, shuffle=True),\n",
    "    \"test\": DataLoader(test_set, batch_size=16, shuffle=False),\n",
    "    \"val\": DataLoader(val_set, batch_size=16, shuffle=False)\n",
    "}"
   ],
   "id": "9d717bda755b71a7",
   "outputs": [],
   "execution_count": 58
  },
  {
   "metadata": {},
   "cell_type": "markdown",
   "source": "### Multi class model",
   "id": "de8bd9e35c1500cf"
  },
  {
   "metadata": {
    "ExecuteTime": {
     "end_time": "2024-10-17T05:02:07.080939Z",
     "start_time": "2024-10-17T05:02:07.065925Z"
    }
   },
   "cell_type": "code",
   "source": [
    "class CustomModel(torch.nn.Module):\n",
    "    def __init__(self):\n",
    "        super(CustomModel, self).__init__()\n",
    "\n",
    "        self.linear1 = torch.nn.Linear(512, 256)\n",
    "        self.activation = torch.nn.ReLU()\n",
    "        self.dropout1 = torch.nn.Dropout(0.1)\n",
    "        self.linear2 = torch.nn.Linear(256, CLASSES)\n",
    "        self.dropout2 = torch.nn.Dropout(0.1)\n",
    "        #self.softmax = torch.nn.Softmax()\n",
    "\n",
    "    def forward(self, x):\n",
    "        x = self.linear1(x)\n",
    "        x = self.activation(x)\n",
    "        x = self.dropout1(x)\n",
    "        x = self.linear2(x)\n",
    "        x = self.dropout2(x)\n",
    "        x = self.softmax(x)\n",
    "        return x\n"
   ],
   "id": "53dc2e342dbd9434",
   "outputs": [],
   "execution_count": 59
  },
  {
   "metadata": {},
   "cell_type": "markdown",
   "source": "### Binary model",
   "id": "c3af3b2999af666"
  },
  {
   "metadata": {},
   "cell_type": "markdown",
   "source": [
    "class CustomModel(torch.nn.Module):\n",
    "    def __init__(self):\n",
    "        super(CustomModel, self).__init__()\n",
    "\n",
    "        self.linear1 = torch.nn.Linear(128, 256)\n",
    "        self.activation = torch.nn.ReLU()\n",
    "        self.linear2 = torch.nn.Linear(256, 1)\n",
    "        self.softmax = torch.nn.Sigmoid()\n",
    "\n",
    "    def forward(self, x):\n",
    "        x = self.linear1(x)\n",
    "        x = self.activation(x)\n",
    "        x = self.linear2(x)\n",
    "        x = self.softmax(x)\n",
    "        return x\n"
   ],
   "id": "9faea459f32f3159"
  },
  {
   "metadata": {
    "ExecuteTime": {
     "end_time": "2024-10-17T05:02:07.286099Z",
     "start_time": "2024-10-17T05:02:07.097177Z"
    }
   },
   "cell_type": "code",
   "source": [
    "from torchvision.models import resnet50, ResNet50_Weights\n",
    "model = resnet50(weights=ResNet50_Weights.IMAGENET1K_V1)\n",
    "\n",
    "model.fc = torch.nn.Sequential(\n",
    "    torch.nn.Linear(2048, 256),\n",
    "    torch.nn.ReLU(),\n",
    "    torch.nn.Linear(256, 3)\n",
    ")\n",
    "\n",
    "device = \"cuda\" if torch.cuda.is_available() else \"cpu\"\n",
    "model.to(device)\n"
   ],
   "id": "5d0d9df833b5d3db",
   "outputs": [
    {
     "data": {
      "text/plain": [
       "ResNet(\n",
       "  (conv1): Conv2d(3, 64, kernel_size=(7, 7), stride=(2, 2), padding=(3, 3), bias=False)\n",
       "  (bn1): BatchNorm2d(64, eps=1e-05, momentum=0.1, affine=True, track_running_stats=True)\n",
       "  (relu): ReLU(inplace=True)\n",
       "  (maxpool): MaxPool2d(kernel_size=3, stride=2, padding=1, dilation=1, ceil_mode=False)\n",
       "  (layer1): Sequential(\n",
       "    (0): Bottleneck(\n",
       "      (conv1): Conv2d(64, 64, kernel_size=(1, 1), stride=(1, 1), bias=False)\n",
       "      (bn1): BatchNorm2d(64, eps=1e-05, momentum=0.1, affine=True, track_running_stats=True)\n",
       "      (conv2): Conv2d(64, 64, kernel_size=(3, 3), stride=(1, 1), padding=(1, 1), bias=False)\n",
       "      (bn2): BatchNorm2d(64, eps=1e-05, momentum=0.1, affine=True, track_running_stats=True)\n",
       "      (conv3): Conv2d(64, 256, kernel_size=(1, 1), stride=(1, 1), bias=False)\n",
       "      (bn3): BatchNorm2d(256, eps=1e-05, momentum=0.1, affine=True, track_running_stats=True)\n",
       "      (relu): ReLU(inplace=True)\n",
       "      (downsample): Sequential(\n",
       "        (0): Conv2d(64, 256, kernel_size=(1, 1), stride=(1, 1), bias=False)\n",
       "        (1): BatchNorm2d(256, eps=1e-05, momentum=0.1, affine=True, track_running_stats=True)\n",
       "      )\n",
       "    )\n",
       "    (1): Bottleneck(\n",
       "      (conv1): Conv2d(256, 64, kernel_size=(1, 1), stride=(1, 1), bias=False)\n",
       "      (bn1): BatchNorm2d(64, eps=1e-05, momentum=0.1, affine=True, track_running_stats=True)\n",
       "      (conv2): Conv2d(64, 64, kernel_size=(3, 3), stride=(1, 1), padding=(1, 1), bias=False)\n",
       "      (bn2): BatchNorm2d(64, eps=1e-05, momentum=0.1, affine=True, track_running_stats=True)\n",
       "      (conv3): Conv2d(64, 256, kernel_size=(1, 1), stride=(1, 1), bias=False)\n",
       "      (bn3): BatchNorm2d(256, eps=1e-05, momentum=0.1, affine=True, track_running_stats=True)\n",
       "      (relu): ReLU(inplace=True)\n",
       "    )\n",
       "    (2): Bottleneck(\n",
       "      (conv1): Conv2d(256, 64, kernel_size=(1, 1), stride=(1, 1), bias=False)\n",
       "      (bn1): BatchNorm2d(64, eps=1e-05, momentum=0.1, affine=True, track_running_stats=True)\n",
       "      (conv2): Conv2d(64, 64, kernel_size=(3, 3), stride=(1, 1), padding=(1, 1), bias=False)\n",
       "      (bn2): BatchNorm2d(64, eps=1e-05, momentum=0.1, affine=True, track_running_stats=True)\n",
       "      (conv3): Conv2d(64, 256, kernel_size=(1, 1), stride=(1, 1), bias=False)\n",
       "      (bn3): BatchNorm2d(256, eps=1e-05, momentum=0.1, affine=True, track_running_stats=True)\n",
       "      (relu): ReLU(inplace=True)\n",
       "    )\n",
       "  )\n",
       "  (layer2): Sequential(\n",
       "    (0): Bottleneck(\n",
       "      (conv1): Conv2d(256, 128, kernel_size=(1, 1), stride=(1, 1), bias=False)\n",
       "      (bn1): BatchNorm2d(128, eps=1e-05, momentum=0.1, affine=True, track_running_stats=True)\n",
       "      (conv2): Conv2d(128, 128, kernel_size=(3, 3), stride=(2, 2), padding=(1, 1), bias=False)\n",
       "      (bn2): BatchNorm2d(128, eps=1e-05, momentum=0.1, affine=True, track_running_stats=True)\n",
       "      (conv3): Conv2d(128, 512, kernel_size=(1, 1), stride=(1, 1), bias=False)\n",
       "      (bn3): BatchNorm2d(512, eps=1e-05, momentum=0.1, affine=True, track_running_stats=True)\n",
       "      (relu): ReLU(inplace=True)\n",
       "      (downsample): Sequential(\n",
       "        (0): Conv2d(256, 512, kernel_size=(1, 1), stride=(2, 2), bias=False)\n",
       "        (1): BatchNorm2d(512, eps=1e-05, momentum=0.1, affine=True, track_running_stats=True)\n",
       "      )\n",
       "    )\n",
       "    (1): Bottleneck(\n",
       "      (conv1): Conv2d(512, 128, kernel_size=(1, 1), stride=(1, 1), bias=False)\n",
       "      (bn1): BatchNorm2d(128, eps=1e-05, momentum=0.1, affine=True, track_running_stats=True)\n",
       "      (conv2): Conv2d(128, 128, kernel_size=(3, 3), stride=(1, 1), padding=(1, 1), bias=False)\n",
       "      (bn2): BatchNorm2d(128, eps=1e-05, momentum=0.1, affine=True, track_running_stats=True)\n",
       "      (conv3): Conv2d(128, 512, kernel_size=(1, 1), stride=(1, 1), bias=False)\n",
       "      (bn3): BatchNorm2d(512, eps=1e-05, momentum=0.1, affine=True, track_running_stats=True)\n",
       "      (relu): ReLU(inplace=True)\n",
       "    )\n",
       "    (2): Bottleneck(\n",
       "      (conv1): Conv2d(512, 128, kernel_size=(1, 1), stride=(1, 1), bias=False)\n",
       "      (bn1): BatchNorm2d(128, eps=1e-05, momentum=0.1, affine=True, track_running_stats=True)\n",
       "      (conv2): Conv2d(128, 128, kernel_size=(3, 3), stride=(1, 1), padding=(1, 1), bias=False)\n",
       "      (bn2): BatchNorm2d(128, eps=1e-05, momentum=0.1, affine=True, track_running_stats=True)\n",
       "      (conv3): Conv2d(128, 512, kernel_size=(1, 1), stride=(1, 1), bias=False)\n",
       "      (bn3): BatchNorm2d(512, eps=1e-05, momentum=0.1, affine=True, track_running_stats=True)\n",
       "      (relu): ReLU(inplace=True)\n",
       "    )\n",
       "    (3): Bottleneck(\n",
       "      (conv1): Conv2d(512, 128, kernel_size=(1, 1), stride=(1, 1), bias=False)\n",
       "      (bn1): BatchNorm2d(128, eps=1e-05, momentum=0.1, affine=True, track_running_stats=True)\n",
       "      (conv2): Conv2d(128, 128, kernel_size=(3, 3), stride=(1, 1), padding=(1, 1), bias=False)\n",
       "      (bn2): BatchNorm2d(128, eps=1e-05, momentum=0.1, affine=True, track_running_stats=True)\n",
       "      (conv3): Conv2d(128, 512, kernel_size=(1, 1), stride=(1, 1), bias=False)\n",
       "      (bn3): BatchNorm2d(512, eps=1e-05, momentum=0.1, affine=True, track_running_stats=True)\n",
       "      (relu): ReLU(inplace=True)\n",
       "    )\n",
       "  )\n",
       "  (layer3): Sequential(\n",
       "    (0): Bottleneck(\n",
       "      (conv1): Conv2d(512, 256, kernel_size=(1, 1), stride=(1, 1), bias=False)\n",
       "      (bn1): BatchNorm2d(256, eps=1e-05, momentum=0.1, affine=True, track_running_stats=True)\n",
       "      (conv2): Conv2d(256, 256, kernel_size=(3, 3), stride=(2, 2), padding=(1, 1), bias=False)\n",
       "      (bn2): BatchNorm2d(256, eps=1e-05, momentum=0.1, affine=True, track_running_stats=True)\n",
       "      (conv3): Conv2d(256, 1024, kernel_size=(1, 1), stride=(1, 1), bias=False)\n",
       "      (bn3): BatchNorm2d(1024, eps=1e-05, momentum=0.1, affine=True, track_running_stats=True)\n",
       "      (relu): ReLU(inplace=True)\n",
       "      (downsample): Sequential(\n",
       "        (0): Conv2d(512, 1024, kernel_size=(1, 1), stride=(2, 2), bias=False)\n",
       "        (1): BatchNorm2d(1024, eps=1e-05, momentum=0.1, affine=True, track_running_stats=True)\n",
       "      )\n",
       "    )\n",
       "    (1): Bottleneck(\n",
       "      (conv1): Conv2d(1024, 256, kernel_size=(1, 1), stride=(1, 1), bias=False)\n",
       "      (bn1): BatchNorm2d(256, eps=1e-05, momentum=0.1, affine=True, track_running_stats=True)\n",
       "      (conv2): Conv2d(256, 256, kernel_size=(3, 3), stride=(1, 1), padding=(1, 1), bias=False)\n",
       "      (bn2): BatchNorm2d(256, eps=1e-05, momentum=0.1, affine=True, track_running_stats=True)\n",
       "      (conv3): Conv2d(256, 1024, kernel_size=(1, 1), stride=(1, 1), bias=False)\n",
       "      (bn3): BatchNorm2d(1024, eps=1e-05, momentum=0.1, affine=True, track_running_stats=True)\n",
       "      (relu): ReLU(inplace=True)\n",
       "    )\n",
       "    (2): Bottleneck(\n",
       "      (conv1): Conv2d(1024, 256, kernel_size=(1, 1), stride=(1, 1), bias=False)\n",
       "      (bn1): BatchNorm2d(256, eps=1e-05, momentum=0.1, affine=True, track_running_stats=True)\n",
       "      (conv2): Conv2d(256, 256, kernel_size=(3, 3), stride=(1, 1), padding=(1, 1), bias=False)\n",
       "      (bn2): BatchNorm2d(256, eps=1e-05, momentum=0.1, affine=True, track_running_stats=True)\n",
       "      (conv3): Conv2d(256, 1024, kernel_size=(1, 1), stride=(1, 1), bias=False)\n",
       "      (bn3): BatchNorm2d(1024, eps=1e-05, momentum=0.1, affine=True, track_running_stats=True)\n",
       "      (relu): ReLU(inplace=True)\n",
       "    )\n",
       "    (3): Bottleneck(\n",
       "      (conv1): Conv2d(1024, 256, kernel_size=(1, 1), stride=(1, 1), bias=False)\n",
       "      (bn1): BatchNorm2d(256, eps=1e-05, momentum=0.1, affine=True, track_running_stats=True)\n",
       "      (conv2): Conv2d(256, 256, kernel_size=(3, 3), stride=(1, 1), padding=(1, 1), bias=False)\n",
       "      (bn2): BatchNorm2d(256, eps=1e-05, momentum=0.1, affine=True, track_running_stats=True)\n",
       "      (conv3): Conv2d(256, 1024, kernel_size=(1, 1), stride=(1, 1), bias=False)\n",
       "      (bn3): BatchNorm2d(1024, eps=1e-05, momentum=0.1, affine=True, track_running_stats=True)\n",
       "      (relu): ReLU(inplace=True)\n",
       "    )\n",
       "    (4): Bottleneck(\n",
       "      (conv1): Conv2d(1024, 256, kernel_size=(1, 1), stride=(1, 1), bias=False)\n",
       "      (bn1): BatchNorm2d(256, eps=1e-05, momentum=0.1, affine=True, track_running_stats=True)\n",
       "      (conv2): Conv2d(256, 256, kernel_size=(3, 3), stride=(1, 1), padding=(1, 1), bias=False)\n",
       "      (bn2): BatchNorm2d(256, eps=1e-05, momentum=0.1, affine=True, track_running_stats=True)\n",
       "      (conv3): Conv2d(256, 1024, kernel_size=(1, 1), stride=(1, 1), bias=False)\n",
       "      (bn3): BatchNorm2d(1024, eps=1e-05, momentum=0.1, affine=True, track_running_stats=True)\n",
       "      (relu): ReLU(inplace=True)\n",
       "    )\n",
       "    (5): Bottleneck(\n",
       "      (conv1): Conv2d(1024, 256, kernel_size=(1, 1), stride=(1, 1), bias=False)\n",
       "      (bn1): BatchNorm2d(256, eps=1e-05, momentum=0.1, affine=True, track_running_stats=True)\n",
       "      (conv2): Conv2d(256, 256, kernel_size=(3, 3), stride=(1, 1), padding=(1, 1), bias=False)\n",
       "      (bn2): BatchNorm2d(256, eps=1e-05, momentum=0.1, affine=True, track_running_stats=True)\n",
       "      (conv3): Conv2d(256, 1024, kernel_size=(1, 1), stride=(1, 1), bias=False)\n",
       "      (bn3): BatchNorm2d(1024, eps=1e-05, momentum=0.1, affine=True, track_running_stats=True)\n",
       "      (relu): ReLU(inplace=True)\n",
       "    )\n",
       "  )\n",
       "  (layer4): Sequential(\n",
       "    (0): Bottleneck(\n",
       "      (conv1): Conv2d(1024, 512, kernel_size=(1, 1), stride=(1, 1), bias=False)\n",
       "      (bn1): BatchNorm2d(512, eps=1e-05, momentum=0.1, affine=True, track_running_stats=True)\n",
       "      (conv2): Conv2d(512, 512, kernel_size=(3, 3), stride=(2, 2), padding=(1, 1), bias=False)\n",
       "      (bn2): BatchNorm2d(512, eps=1e-05, momentum=0.1, affine=True, track_running_stats=True)\n",
       "      (conv3): Conv2d(512, 2048, kernel_size=(1, 1), stride=(1, 1), bias=False)\n",
       "      (bn3): BatchNorm2d(2048, eps=1e-05, momentum=0.1, affine=True, track_running_stats=True)\n",
       "      (relu): ReLU(inplace=True)\n",
       "      (downsample): Sequential(\n",
       "        (0): Conv2d(1024, 2048, kernel_size=(1, 1), stride=(2, 2), bias=False)\n",
       "        (1): BatchNorm2d(2048, eps=1e-05, momentum=0.1, affine=True, track_running_stats=True)\n",
       "      )\n",
       "    )\n",
       "    (1): Bottleneck(\n",
       "      (conv1): Conv2d(2048, 512, kernel_size=(1, 1), stride=(1, 1), bias=False)\n",
       "      (bn1): BatchNorm2d(512, eps=1e-05, momentum=0.1, affine=True, track_running_stats=True)\n",
       "      (conv2): Conv2d(512, 512, kernel_size=(3, 3), stride=(1, 1), padding=(1, 1), bias=False)\n",
       "      (bn2): BatchNorm2d(512, eps=1e-05, momentum=0.1, affine=True, track_running_stats=True)\n",
       "      (conv3): Conv2d(512, 2048, kernel_size=(1, 1), stride=(1, 1), bias=False)\n",
       "      (bn3): BatchNorm2d(2048, eps=1e-05, momentum=0.1, affine=True, track_running_stats=True)\n",
       "      (relu): ReLU(inplace=True)\n",
       "    )\n",
       "    (2): Bottleneck(\n",
       "      (conv1): Conv2d(2048, 512, kernel_size=(1, 1), stride=(1, 1), bias=False)\n",
       "      (bn1): BatchNorm2d(512, eps=1e-05, momentum=0.1, affine=True, track_running_stats=True)\n",
       "      (conv2): Conv2d(512, 512, kernel_size=(3, 3), stride=(1, 1), padding=(1, 1), bias=False)\n",
       "      (bn2): BatchNorm2d(512, eps=1e-05, momentum=0.1, affine=True, track_running_stats=True)\n",
       "      (conv3): Conv2d(512, 2048, kernel_size=(1, 1), stride=(1, 1), bias=False)\n",
       "      (bn3): BatchNorm2d(2048, eps=1e-05, momentum=0.1, affine=True, track_running_stats=True)\n",
       "      (relu): ReLU(inplace=True)\n",
       "    )\n",
       "  )\n",
       "  (avgpool): AdaptiveAvgPool2d(output_size=(1, 1))\n",
       "  (fc): Sequential(\n",
       "    (0): Linear(in_features=2048, out_features=256, bias=True)\n",
       "    (1): ReLU()\n",
       "    (2): Linear(in_features=256, out_features=3, bias=True)\n",
       "  )\n",
       ")"
      ]
     },
     "execution_count": 60,
     "metadata": {},
     "output_type": "execute_result"
    }
   ],
   "execution_count": 60
  },
  {
   "metadata": {
    "ExecuteTime": {
     "end_time": "2024-10-17T05:02:07.316383Z",
     "start_time": "2024-10-17T05:02:07.301759Z"
    }
   },
   "cell_type": "code",
   "source": [
    "for param in model.parameters():\n",
    "    param.requires_grad = False\n",
    "\n",
    "for param in model.fc.parameters():\n",
    "    param.requires_grad = True\n",
    "\n",
    "criterion = torch.nn.CrossEntropyLoss()\n",
    "optimizer = optim.Adam(model.parameters(), lr=0.0001)\n",
    "\n",
    "metrics = {\n",
    "    'train': {\n",
    "         'loss': [], 'accuracy': []\n",
    "    },\n",
    "    'val': {\n",
    "         'loss': [], 'accuracy': []\n",
    "    },\n",
    "}\n",
    "\n"
   ],
   "id": "849d3e0791237b86",
   "outputs": [],
   "execution_count": 61
  },
  {
   "metadata": {
    "ExecuteTime": {
     "end_time": "2024-10-17T05:02:07.347380Z",
     "start_time": "2024-10-17T05:02:07.332863Z"
    }
   },
   "cell_type": "code",
   "source": "",
   "id": "80774e48355d35d3",
   "outputs": [],
   "execution_count": null
  },
  {
   "metadata": {
    "ExecuteTime": {
     "end_time": "2024-10-17T05:02:07.378248Z",
     "start_time": "2024-10-17T05:02:07.364068Z"
    }
   },
   "cell_type": "code",
   "source": "",
   "id": "8b6ba8bf91df256",
   "outputs": [],
   "execution_count": null
  },
  {
   "metadata": {
    "ExecuteTime": {
     "end_time": "2024-10-17T05:04:01.424188Z",
     "start_time": "2024-10-17T05:02:10.792040Z"
    }
   },
   "cell_type": "code",
   "source": [
    "# Initialize early stopping parameters\n",
    "best_val_loss = float('inf')  # Start with a very high value\n",
    "patience = 5  # Number of epochs to wait for improvement\n",
    "patience_counter = 0  # Counter for patience\n",
    "\n",
    "for epoch in range(EPOCHS):\n",
    "  ep_metrics = {\n",
    "    'train': {'loss': 0, 'accuracy': 0, 'count': 0},\n",
    "    'val': {'loss': 0, 'accuracy': 0, 'count': 0},\n",
    "  }\n",
    "\n",
    "  print(dataloaders['train'])\n",
    "  \n",
    "  for phase in ['train', 'val']:\n",
    "    print(f'-------- {phase} --------')\n",
    "    for images, labels in dataloaders[phase]:\n",
    "      \n",
    "      optimizer.zero_grad()\n",
    "\n",
    "      with torch.set_grad_enabled(phase == 'train'):\n",
    "        output = model(images.to(device))\n",
    "        ohe_label = torch.nn.functional.one_hot(labels, num_classes=3)\n",
    "\n",
    "        loss = criterion(output, ohe_label.float().to(device))\n",
    "\n",
    "        correct_preds = labels.to(device) == torch.argmax(output, dim=1)\n",
    "        accuracy = (correct_preds).sum()/len(labels)\n",
    "\n",
    "      if phase == 'train':\n",
    "        loss.backward()\n",
    "        optimizer.step()\n",
    "\n",
    "      ep_metrics[phase]['loss'] += loss.item()\n",
    "      ep_metrics[phase]['accuracy'] += accuracy.item()\n",
    "      ep_metrics[phase]['count'] += 1\n",
    "  \n",
    "    ep_loss = ep_metrics[phase]['loss']/ep_metrics[phase]['count']\n",
    "    ep_accuracy = ep_metrics[phase]['accuracy']/ep_metrics[phase]['count']\n",
    "\n",
    "    print(f'Loss: {ep_loss}, Accuracy: {ep_accuracy}\\n')\n",
    "\n",
    "    metrics[phase]['loss'].append(ep_loss)\n",
    "    metrics[phase]['accuracy'].append(ep_accuracy)\n",
    "    \n",
    "    # Early stopping logic based on validation loss\n",
    "    if phase == 'val':\n",
    "      if ep_loss < best_val_loss:\n",
    "        best_val_loss = ep_loss  # Update best loss\n",
    "        patience_counter = 0  # Reset patience counter\n",
    "        print(\"Validation loss improved. Saving model...\")\n",
    "        # Optionally save the model checkpoint here\n",
    "        torch.save(model.state_dict(), 'best_model.pth')\n",
    "      else:\n",
    "        patience_counter += 1\n",
    "        print(f'No improvement in validation loss. Patience counter: {patience_counter}/{patience}')\n",
    "    # Check for early stopping\n",
    "  if patience_counter >= patience:\n",
    "    print(\"Early stopping triggered. Stopping training.\")\n",
    "    break  # Exit the training loop\n",
    "\n",
    "  model.load_state_dict(torch.load('best_model.pth', weights_only=True))\n"
   ],
   "id": "3934c7c8f3489b2c",
   "outputs": [
    {
     "name": "stdout",
     "output_type": "stream",
     "text": [
      "<torch.utils.data.dataloader.DataLoader object at 0x000002445C6DA770>\n",
      "-------- train --------\n",
      "Loss: 0.9513111114501953, Accuracy: 0.6369047619047619\n",
      "\n",
      "-------- val --------\n",
      "Loss: 0.8542696038881937, Accuracy: 0.652777781089147\n",
      "\n",
      "Validation loss improved. Saving model...\n",
      "<torch.utils.data.dataloader.DataLoader object at 0x000002445C6DA770>\n",
      "-------- train --------\n",
      "Loss: 0.6756326187224615, Accuracy: 0.8660714285714286\n",
      "\n",
      "-------- val --------\n",
      "Loss: 0.6591938734054565, Accuracy: 0.8217592636744181\n",
      "\n",
      "Validation loss improved. Saving model...\n",
      "<torch.utils.data.dataloader.DataLoader object at 0x000002445C6DA770>\n",
      "-------- train --------\n",
      "Loss: 0.5259627288296109, Accuracy: 0.8809523809523809\n",
      "\n",
      "-------- val --------\n",
      "Loss: 0.5270716746648153, Accuracy: 0.8634259303410848\n",
      "\n",
      "Validation loss improved. Saving model...\n",
      "<torch.utils.data.dataloader.DataLoader object at 0x000002445C6DA770>\n",
      "-------- train --------\n",
      "Loss: 0.4351024556727636, Accuracy: 0.9047619047619048\n",
      "\n",
      "-------- val --------\n",
      "Loss: 0.47364704807599384, Accuracy: 0.8217592636744181\n",
      "\n",
      "Validation loss improved. Saving model...\n",
      "<torch.utils.data.dataloader.DataLoader object at 0x000002445C6DA770>\n",
      "-------- train --------\n",
      "Loss: 0.3399477352698644, Accuracy: 0.9285714285714286\n",
      "\n",
      "-------- val --------\n",
      "Loss: 0.4854164620240529, Accuracy: 0.7893518606821696\n",
      "\n",
      "No improvement in validation loss. Patience counter: 1/5\n",
      "<torch.utils.data.dataloader.DataLoader object at 0x000002445C6DA770>\n",
      "-------- train --------\n",
      "Loss: 0.3397220103513627, Accuracy: 0.9523809523809523\n",
      "\n",
      "-------- val --------\n",
      "Loss: 0.3849485417207082, Accuracy: 0.9004629651705424\n",
      "\n",
      "Validation loss improved. Saving model...\n",
      "<torch.utils.data.dataloader.DataLoader object at 0x000002445C6DA770>\n",
      "-------- train --------\n",
      "Loss: 0.3209243870916821, Accuracy: 0.9255952380952381\n",
      "\n",
      "-------- val --------\n",
      "Loss: 0.4260936379432678, Accuracy: 0.8634259303410848\n",
      "\n",
      "No improvement in validation loss. Patience counter: 1/5\n",
      "<torch.utils.data.dataloader.DataLoader object at 0x000002445C6DA770>\n",
      "-------- train --------\n",
      "Loss: 0.34153617208912257, Accuracy: 0.9345238095238095\n",
      "\n",
      "-------- val --------\n",
      "Loss: 0.4243651082118352, Accuracy: 0.8472222288449606\n",
      "\n",
      "No improvement in validation loss. Patience counter: 2/5\n",
      "<torch.utils.data.dataloader.DataLoader object at 0x000002445C6DA770>\n",
      "-------- train --------\n",
      "Loss: 0.3001280285063244, Accuracy: 0.9553571428571429\n",
      "\n",
      "-------- val --------\n",
      "Loss: 0.4052593211332957, Accuracy: 0.8425925970077515\n",
      "\n",
      "No improvement in validation loss. Patience counter: 3/5\n",
      "<torch.utils.data.dataloader.DataLoader object at 0x000002445C6DA770>\n",
      "-------- train --------\n",
      "Loss: 0.27712216618515195, Accuracy: 0.9523809523809523\n",
      "\n",
      "-------- val --------\n",
      "Loss: 0.4450751046339671, Accuracy: 0.8634259303410848\n",
      "\n",
      "No improvement in validation loss. Patience counter: 4/5\n"
     ]
    }
   ],
   "execution_count": 62
  },
  {
   "metadata": {
    "ExecuteTime": {
     "end_time": "2024-10-17T05:04:07.566013Z",
     "start_time": "2024-10-17T05:04:05.774128Z"
    }
   },
   "cell_type": "code",
   "source": [
    "import matplotlib.pyplot as plt\n",
    "from tqdm import tqdm\n",
    "\n",
    "for phase in metrics:\n",
    "    for metric in metrics[phase]:\n",
    "        metric_data = metrics[phase][metric]\n",
    "        plt.plot(range(len(metric_data)), metric_data)\n",
    "        plt.xlabel('Epoch')\n",
    "        plt.ylabel(f'{phase} {metric}')\n",
    "        plt.show()\n",
    "\n",
    "preds = []\n",
    "actual = []\n",
    "\n",
    "tot_loss = tot_acc = count = 0\n",
    "\n",
    "for images, labels in tqdm(dataloaders['test']):\n",
    "    with torch.set_grad_enabled(False):\n",
    "        output = model(images.to(device))\n",
    "        ohe_label = torch.nn.functional.one_hot(labels, num_classes=CLASSES)\n",
    "        out_labels = torch.argmax(output, dim=1)\n",
    "\n",
    "\n",
    "        tot_loss += criterion(output, ohe_label.float().to(device))\n",
    "        tot_acc += (labels.to(device) == out_labels).sum()/len(labels)\n",
    "        count += 1\n",
    "\n",
    "    preds += out_labels.tolist()\n",
    "    actual += labels.tolist()\n",
    "\n",
    "print(f\"Test Loss: {tot_loss / count}, Test Accuracy: {tot_acc / count}\")\n"
   ],
   "id": "2b269ee353cb624b",
   "outputs": [
    {
     "data": {
      "text/plain": [
       "<Figure size 640x480 with 1 Axes>"
      ],
      "image/png": "[encoded data removed]"
     },
     "metadata": {},
     "output_type": "display_data"
    },
    {
     "data": {
      "text/plain": [
       "<Figure size 640x480 with 1 Axes>"
      ],
      "image/png": "[encoded data removed]"
     },
     "metadata": {},
     "output_type": "display_data"
    },
    {
     "data": {
      "text/plain": [
       "<Figure size 640x480 with 1 Axes>"
      ],
      "image/png": "[encoded data removed]"
     },
     "metadata": {},
     "output_type": "display_data"
    },
    {
     "data": {
      "text/plain": [
       "<Figure size 640x480 with 1 Axes>"
      ],
      "image/png": "[encoded data removed]"
     },
     "metadata": {},
     "output_type": "display_data"
    },
    {
     "name": "stderr",
     "output_type": "stream",
     "text": [
      "100%|██████████| 3/3 [00:01<00:00,  1.87it/s]"
     ]
    },
    {
     "name": "stdout",
     "output_type": "stream",
     "text": [
      "Test Loss: 0.2532976567745209, Test Accuracy: 0.9791666865348816\n"
     ]
    },
    {
     "name": "stderr",
     "output_type": "stream",
     "text": [
      "\n"
     ]
    }
   ],
   "execution_count": 63
  },
  {
   "metadata": {},
   "cell_type": "code",
   "source": "",
   "id": "8f1fb461ebf02389",
   "outputs": [],
   "execution_count": null
  },
  {
   "metadata": {
    "ExecuteTime": {
     "end_time": "2024-10-17T04:58:54.664523Z",
     "start_time": "2024-10-17T04:58:54.590027Z"
    }
   },
   "cell_type": "code",
   "source": [
    "import sklearn\n",
    "from sklearn.metrics import confusion_matrix, ConfusionMatrixDisplay\n",
    "import numpy as np\n",
    "import pandas as pd\n",
    "\n",
    "class_labels = sorted(dataset.class_lbl.keys())\n",
    "\n",
    "cm = confusion_matrix(actual, preds)\n",
    "disp = ConfusionMatrixDisplay(confusion_matrix=cm, display_labels=class_labels)\n",
    "\n",
    "disp.plot()\n",
    "plt.show()\n",
    "\n",
    "cm_np = np.array(cm)\n",
    "stats = pd.DataFrame(index=class_labels)\n",
    "stats['Precision'] = [cm_np[i, i]/np.sum(cm_np[:, i]) for i in range(len(cm_np))]\n",
    "stats['Recall'] = [cm_np[i, i]/np.sum(cm_np[i, :]) for i in range(len(cm_np))]\n",
    "stats\n",
    "\n"
   ],
   "id": "166a3d6abaa95540",
   "outputs": [
    {
     "data": {
      "text/plain": [
       "<Figure size 640x480 with 2 Axes>"
      ],
      "image/png": "[encoded data removed]"
     },
     "metadata": {},
     "output_type": "display_data"
    },
    {
     "data": {
      "text/plain": [
       "           Precision    Recall\n",
       "pink        0.416667  0.357143\n",
       "sunflower   0.250000  0.142857\n",
       "yellow      0.458333  0.578947"
      ],
      "text/html": [
       "<div>\n",
       "<style scoped>\n",
       "    .dataframe tbody tr th:only-of-type {\n",
       "        vertical-align: middle;\n",
       "    }\n",
       "\n",
       "    .dataframe tbody tr th {\n",
       "        vertical-align: top;\n",
       "    }\n",
       "\n",
       "    .dataframe thead th {\n",
       "        text-align: right;\n",
       "    }\n",
       "</style>\n",
       "<table border=\"1\" class=\"dataframe\">\n",
       "  <thead>\n",
       "    <tr style=\"text-align: right;\">\n",
       "      <th></th>\n",
       "      <th>Precision</th>\n",
       "      <th>Recall</th>\n",
       "    </tr>\n",
       "  </thead>\n",
       "  <tbody>\n",
       "    <tr>\n",
       "      <th>pink</th>\n",
       "      <td>0.416667</td>\n",
       "      <td>0.357143</td>\n",
       "    </tr>\n",
       "    <tr>\n",
       "      <th>sunflower</th>\n",
       "      <td>0.250000</td>\n",
       "      <td>0.142857</td>\n",
       "    </tr>\n",
       "    <tr>\n",
       "      <th>yellow</th>\n",
       "      <td>0.458333</td>\n",
       "      <td>0.578947</td>\n",
       "    </tr>\n",
       "  </tbody>\n",
       "</table>\n",
       "</div>"
      ]
     },
     "execution_count": 41,
     "metadata": {},
     "output_type": "execute_result"
    }
   ],
   "execution_count": 41
  },
  {
   "metadata": {},
   "cell_type": "code",
   "source": "",
   "id": "f55debdb37224e51",
   "outputs": [],
   "execution_count": null
  }
 ],
 "metadata": {
  "kernelspec": {
   "display_name": "Python 3",
   "language": "python",
   "name": "python3"
  },
  "language_info": {
   "codemirror_mode": {
    "name": "ipython",
    "version": 2
   },
   "file_extension": ".py",
   "mimetype": "text/x-python",
   "name": "python",
   "nbconvert_exporter": "python",
   "pygments_lexer": "ipython2",
   "version": "2.7.6"
  }
 },
 "nbformat": 4,
 "nbformat_minor": 5
}
